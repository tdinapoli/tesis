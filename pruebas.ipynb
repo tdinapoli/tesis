{
 "cells": [
  {
   "cell_type": "code",
   "execution_count": 1,
   "metadata": {},
   "outputs": [],
   "source": [
    "from instruments import abstract\n",
    "from redpitaya.overlay.mercury import mercury as FPGA \n",
    "import time"
   ]
  },
  {
   "cell_type": "code",
   "execution_count": 3,
   "metadata": {},
   "outputs": [
    {
     "name": "stdout",
     "output_type": "stream",
     "text": [
      "Requested overlay is already loaded.\n",
      "Overlay __del__ was activated.\n",
      "But since there are garbage collection ordering issues, this code is commented out.\n",
      "True\n",
      "False\n",
      "True\n"
     ]
    }
   ],
   "source": [
    "#class A4988:\n",
    "#    enable: int\n",
    "#    ms1: int\n",
    "#    ms2: int\n",
    "#    ms3: int\n",
    "#    notreset: int\n",
    "#    notsleep: int\n",
    "#    step: int\n",
    "#    direction: int\n",
    "#    pins: dict\n",
    "#\n",
    "#    def __init__(self, overlay, pins: dict, mode: int = 0):\n",
    "#        self.overlay = overlay\n",
    "#\n",
    "#    def _configure_overlay(self, pins):\n",
    "#        for pin in pins:\n",
    "#            self.attr\n",
    "#\n",
    "#    def set_mode(self, mode: int):\n",
    "#        pass\n",
    "\n",
    "#       pinesRpi\n",
    "#              cal motor\n",
    "#             donde estoy \n",
    "# TTL < DRIVER < MOTOR < SPECTROMETER < user\n",
    "#   ps pin    pulsos ang,dir          wl\n",
    "\n",
    "class RPTTL(abstract.TTL):\n",
    "\n",
    "    def __init__(self, state, pin, gpio):\n",
    "        column, number = pin\n",
    "        self._gpio = gpio(column, number, 'out')\n",
    "        super().__init__(state)\n",
    "        \n",
    "    def _get_state(self):\n",
    "        return self._gpio.read()\n",
    "        \n",
    "    def _set_state(self, state):\n",
    "        self._gpio.write(state)\n",
    "    \n",
    "\n",
    "class Motor:\n",
    "    def __init__(self, driver):\n",
    "        self.driver = driver\n",
    "\n",
    "    def rotate(self, angle: float, direction: str):\n",
    "        self.driver.direction = direction\n",
    "\n",
    "class Spectrometer:\n",
    "    def __init__(self, motor):\n",
    "        self.motor = motor\n",
    "\n",
    "    def set_wavelength(self, wavelength: float):\n",
    "        angle = self._angle_from_wl(wavelength)\n",
    "        self.motor.rotate(angle)\n",
    "\n",
    "    def _angle_from_wl(self, wavelength: float):\n",
    "        raise NotImplementedError\n",
    "\n",
    "if __name__ == \"__main__\":\n",
    "    time.sleep(3)\n",
    "    overlay = FPGA()\n",
    "    gpio = overlay.gpio\n",
    "    pin = ('n', 1)\n",
    "    rpttl = RPTTL(True, pin, gpio)\n",
    "    print(rpttl.state)\n",
    "    time.sleep(3)\n",
    "    rpttl.state = False\n",
    "    print(rpttl.state)\n",
    "    time.sleep(3)\n",
    "    rpttl.toggle()\n",
    "    print(rpttl.state)\n",
    "    time.sleep(3)\n",
    "\n"
   ]
  },
  {
   "cell_type": "code",
   "execution_count": 3,
   "metadata": {},
   "outputs": [
    {
     "name": "stdout",
     "output_type": "stream",
     "text": [
      "GPIO 977 (fd=42, direction=out, supports interrupts, edge=none)\n"
     ]
    },
    {
     "data": {
      "text/plain": [
       "True"
      ]
     },
     "execution_count": 3,
     "metadata": {},
     "output_type": "execute_result"
    }
   ],
   "source": [
    "gpio_o = gpio('n', 1, 'out')\n",
    "print(gpio_o)\n",
    "gpio_o.write(True)\n",
    "gpio_o.read()"
   ]
  }
 ],
 "metadata": {
  "kernelspec": {
   "display_name": "Python 3",
   "language": "python",
   "name": "python3"
  },
  "language_info": {
   "codemirror_mode": {
    "name": "ipython",
    "version": 3
   },
   "file_extension": ".py",
   "mimetype": "text/x-python",
   "name": "python",
   "nbconvert_exporter": "python",
   "pygments_lexer": "ipython3",
   "version": "3.5.2"
  }
 },
 "nbformat": 4,
 "nbformat_minor": 2
}
