{
 "cells": [
  {
   "cell_type": "code",
   "execution_count": 1,
   "id": "8f062772-969e-4b5f-8591-0952c0e76056",
   "metadata": {},
   "outputs": [],
   "source": [
    "from poincare import Simulator, System, Variable, Parameter, assign, initial\n",
    "import numpy as np\n",
    "import matplotlib.pyplot as plt "
   ]
  },
  {
   "cell_type": "code",
   "execution_count": 10,
   "id": "c4506a77-cc3d-4f23-8e80-b8edd203edc2",
   "metadata": {},
   "outputs": [
    {
     "data": {
      "application/vnd.jupyter.widget-view+json": {
       "model_id": "81bdb9a2d5ef4efc9b2583dcf574fe9f",
       "version_major": 2,
       "version_minor": 0
      },
      "text/plain": [
       "interactive(children=(FloatSlider(value=0.0, description='N1', max=10.0), FloatSlider(value=0.0, description='…"
      ]
     },
     "metadata": {},
     "output_type": "display_data"
    }
   ],
   "source": [
    "sim = Simulator(Example, transform=dict(N1=Example.N1, N2=Example.N2))\n",
    "sim.interact({**model_params_etu, Example.k2: 0, Example.k1: 0}, save_at=np.linspace(0, 0.0001))"
   ]
  },
  {
   "cell_type": "code",
   "execution_count": null,
   "id": "3e8edde9-04d6-40d9-aa5c-aa4dadfd26f1",
   "metadata": {},
   "outputs": [],
   "source": [
    "class Pollnau(System):\n",
    "    N1: Variable"
   ]
  },
  {
   "cell_type": "code",
   "execution_count": null,
   "id": "368a85e4-3a11-43ff-ae88-dbe1abafec7d",
   "metadata": {},
   "outputs": [],
   "source": []
  }
 ],
 "metadata": {
  "kernelspec": {
   "display_name": "Python 3 (ipykernel)",
   "language": "python",
   "name": "python3"
  },
  "language_info": {
   "codemirror_mode": {
    "name": "ipython",
    "version": 3
   },
   "file_extension": ".py",
   "mimetype": "text/x-python",
   "name": "python",
   "nbconvert_exporter": "python",
   "pygments_lexer": "ipython3",
   "version": "3.11.6"
  }
 },
 "nbformat": 4,
 "nbformat_minor": 5
}
