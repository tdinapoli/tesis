{
 "cells": [
  {
   "cell_type": "markdown",
   "metadata": {},
   "source": [
    "Upconversion es un fenómeno en el que fotones de una determinada energía excitan múltiples veces a un mismo electrón llevandolo a un estado de mayor energía que la energía individual de los fotones que incidieron.\n",
    "Si este electrón luego decae al estado fundamental, emite un fotón de menor longitud de onda que los incidentes.\n",
    "Hay muchos mecanismos de upconversion, pero los principales son Energy Transfer Upconversion (ETU) y Excited State Absorption (ESA). \n",
    "En este diagrama se ejemplifican los mecanismos:\n",
    "\n",
    "![image](images/etu-esa.png \"Figura 1\")\n",
    "\n",
    "Por un lado, ETU consiste en la interacción dipolo-dipolo de dos iones en el estado excitado N1, que lleva a que un tercer ión (o uno de los dos que ya estaba excitado) al estado excitado de doble energía N2, llevando a los dos iones que interactuaron nuevamente al estado fundamental.\n",
    "\n",
    "Por otro lado, ESA consiste en la excitación de un ión en el estado N1 por un fotón con la energía necesaria para llevarlo al estado N2.\n",
    "\n",
    "Se propone entonces estudiar este sistema bajo las siguientes hipótesis:\n",
    "1. La densidad de población del estado fundamental es constante\n",
    "1. Se excita al sistema con onda continua\n",
    "1. La upconversion está dada por ETU o ESA.\n",
    "1. Los estados excitados $N_i$ tienen tiempos de vida $\\tau_i$ y decaen proporcionalmente a $A_i = \\tau_i^{-1}$.\n",
    "\n",
    "Bajo algunas aproximaciones que se pueden leer en el [pollnau](https://journals.aps.org/prb/abstract/10.1103/PhysRevB.61.3337), la densidad de potencia incidente por el láser está dada por \n",
    "\n",
    "$$\\rho_P = \\frac{\\lambda_P}{hc\\pi w_P^2}P$$\n",
    "\n",
    "Donde $\\lambda_P$ es la longitud de onda de excitación, $h$ la constante de Plank, $c$ la velocidad de la luz, $w_P$ el radio de bombeo y $P$ la potencia incidente.\n",
    "Entonces, las rate equations para la excitación por fotones de un estado $N_1$ a otro $N_2$ por un fotón está dada por \n",
    "$$\\dot{N}_1 = - \\rho_P \\sigma_1 N_1$$\n",
    "$$\\dot{N}_2 = \\rho_P \\sigma_1 N_1$$\n",
    "donde $\\sigma_1$ es la cross section del estado $N_1$.\n",
    "Lo más importante acá es que estos términos son proporcionales a la potencia incidente del láser.\n",
    "\n",
    "Por otro lado, las ecuaciones para dos niveles que interactúan dipolarmente para generar ETU son \n",
    "$$\\dot{N}_1 = - 2 W_1 N_1^2$$\n",
    "$$\\dot{N}_2 = W_1 N_1^2$$\n",
    "donde $W_1$ es la constante del rate de ETU. En este caso, se pierden dos iones en el estado $N_1$ para ganar uno en el $N_2$ el ión restante vuelve al estado $N_0$, pero por ahora estamos asumiendo que $\\dot{N}_0 = 0$ por lo que esa ecuación no nos interesa.\n",
    "\n",
    "Entonces, para el sistema de 3 niveles con ETU y ESA las ecuaciones quedan \n",
    "\n",
    "![image](images/eqdif-3niv.jpeg)\n",
    "\n",
    "Las ecuación estacionaria para $N_1$ queda\n",
    "\n",
    "![image](images/estacionario_k1mgw1.jpeg)\n",
    "\n",
    "Nos interesa estudiar el caso estacionario bajo algunas aproximaciones.\n",
    "De esta ecuación hay que notar que el primer término es proporcional a $P^0$ y el segundo a $P^{-1}$.\n",
    "\n",
    "##### $k_1 >> W_1 N_1$\n",
    "\n",
    "Bajo esta aproximación se va el segundo término y queda $N_1 \\propto P^0$ para potencias altas y $N_1 \\propto P$ para potencias bajas.\n",
    "Ahora, qué pasa con $N_2$ en cada caso?\n",
    "$P>>1  \\implies N_2 \\propto P$, y $P<<1 \\implies N_2 \\propto P^2$.\n",
    "Esto quiere decir que en un gráfico loglog de intensidad vs potencia, la pendiente de $N_2$ sería 1 para potencias altas y 2 para bajas.\n",
    "Para verificarlo hago una simulación del sistema con las ecuaciones que escribí antes.\n",
    "\n"
   ]
  },
  {
   "cell_type": "code",
   "execution_count": 2,
   "metadata": {},
   "outputs": [],
   "source": [
    "from poincare import Simulator\n",
    "from nb_tesis.nb_tesis_1 import Pollnau, p_vs_i\n",
    "import numpy as np\n",
    "import matplotlib.pyplot as plt\n",
    "\n",
    "\n",
    "sim = Simulator(Pollnau)\n",
    "kwargs = {\n",
    "    \"model_params\":{\n",
    "        Pollnau.N0:1,\n",
    "        Pollnau.N1:0,\n",
    "        Pollnau.N2:0,\n",
    "        Pollnau.P:1,\n",
    "        Pollnau.sigma0:1,\n",
    "        Pollnau.sigma1:1e0,\n",
    "        Pollnau.k1:1e-1,\n",
    "        Pollnau.k2:1e0,\n",
    "        Pollnau.W1:1e1\n",
    "    },\n",
    "    \"save_at\":np.linspace(0, 10, 100)\n",
    "}"
   ]
  },
  {
   "cell_type": "code",
   "execution_count": null,
   "metadata": {},
   "outputs": [],
   "source": []
  }
 ],
 "metadata": {
  "kernelspec": {
   "display_name": "model-venv",
   "language": "python",
   "name": "python3"
  },
  "language_info": {
   "codemirror_mode": {
    "name": "ipython",
    "version": 3
   },
   "file_extension": ".py",
   "mimetype": "text/x-python",
   "name": "python",
   "nbconvert_exporter": "python",
   "pygments_lexer": "ipython3",
   "version": "3.11.6"
  }
 },
 "nbformat": 4,
 "nbformat_minor": 2
}
